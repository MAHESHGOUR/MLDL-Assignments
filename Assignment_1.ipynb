{
  "nbformat": 4,
  "nbformat_minor": 0,
  "metadata": {
    "colab": {
      "name": "Assignment#1.ipynb",
      "provenance": []
    },
    "kernelspec": {
      "name": "python3",
      "display_name": "Python 3"
    },
    "language_info": {
      "name": "python"
    }
  },
  "cells": [
    {
      "cell_type": "markdown",
      "source": [
        "# Assignment 1"
      ],
      "metadata": {
        "id": "kqegZiaL2adl"
      }
    },
    {
      "cell_type": "markdown",
      "source": [
        "1. Write a program which will find all such numbers which are divisible by 7 but are not a multiple of 5, between 2000 and 3200 (both included). The numbers obtained should be printed in a comma-separated sequence on a single line.\n"
      ],
      "metadata": {
        "id": "TroFaOQe2R_I"
      }
    },
    {
      "cell_type": "code",
      "source": [
        "m=[]\n",
        "for x in range(2000, 3201):\n",
        "  if x%7==0 and x%5!=0:\n",
        "    m.append(x)\n",
        "\n",
        "print(*m, sep= \",\")"
      ],
      "metadata": {
        "colab": {
          "base_uri": "https://localhost:8080/"
        },
        "id": "PUQVMQ3C3P3v",
        "outputId": "a683843b-0422-453b-f0a2-46bc6c35d7d9"
      },
      "execution_count": 20,
      "outputs": [
        {
          "output_type": "stream",
          "name": "stdout",
          "text": [
            "2002,2009,2016,2023,2037,2044,2051,2058,2072,2079,2086,2093,2107,2114,2121,2128,2142,2149,2156,2163,2177,2184,2191,2198,2212,2219,2226,2233,2247,2254,2261,2268,2282,2289,2296,2303,2317,2324,2331,2338,2352,2359,2366,2373,2387,2394,2401,2408,2422,2429,2436,2443,2457,2464,2471,2478,2492,2499,2506,2513,2527,2534,2541,2548,2562,2569,2576,2583,2597,2604,2611,2618,2632,2639,2646,2653,2667,2674,2681,2688,2702,2709,2716,2723,2737,2744,2751,2758,2772,2779,2786,2793,2807,2814,2821,2828,2842,2849,2856,2863,2877,2884,2891,2898,2912,2919,2926,2933,2947,2954,2961,2968,2982,2989,2996,3003,3017,3024,3031,3038,3052,3059,3066,3073,3087,3094,3101,3108,3122,3129,3136,3143,3157,3164,3171,3178,3192,3199\n"
          ]
        }
      ]
    },
    {
      "cell_type": "markdown",
      "source": [
        "2. Write a Python program to accept the user's first and last name and then getting them printed in the the reverse order with a space between first name and last name."
      ],
      "metadata": {
        "id": "xwQxU8UK8BhZ"
      }
    },
    {
      "cell_type": "code",
      "source": [
        "name = input(\"enter your first name  \")\n",
        "print(name[::-1] )"
      ],
      "metadata": {
        "colab": {
          "base_uri": "https://localhost:8080/"
        },
        "id": "MNRU7rte8OSY",
        "outputId": "a9edb3bd-c701-4bc7-95da-2830c82f9c02"
      },
      "execution_count": 29,
      "outputs": [
        {
          "output_type": "stream",
          "name": "stdout",
          "text": [
            "enter your first name  Mahesh Gour\n",
            "ruoG hsehaM\n"
          ]
        }
      ]
    },
    {
      "cell_type": "markdown",
      "source": [
        "3. Write a Python program to find the volume of a sphere with diameter 12 cm. \n",
        "\n",
        "Formula: V=4/3 * π * r 3"
      ],
      "metadata": {
        "id": "uooNntErBwja"
      }
    },
    {
      "cell_type": "code",
      "source": [
        "pi=3.14\n",
        "r=12/2\n",
        "V=(4/3)*pi*r*r*r\n",
        "print(\"Volume of Sphere is: \", V)\n"
      ],
      "metadata": {
        "colab": {
          "base_uri": "https://localhost:8080/"
        },
        "id": "FX_GmxS3CAMN",
        "outputId": "fd2ef9f5-b5d1-4b8d-fadb-d948f6513072"
      },
      "execution_count": 30,
      "outputs": [
        {
          "output_type": "stream",
          "name": "stdout",
          "text": [
            "Volume of Sphere is:  904.3199999999998\n"
          ]
        }
      ]
    }
  ]
}